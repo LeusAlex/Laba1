{
 "cells": [
  {
   "cell_type": "markdown",
   "id": "dc66664a",
   "metadata": {},
   "source": [
    "Первое задание:"
   ]
  },
  {
   "cell_type": "code",
   "execution_count": 12,
   "id": "31197a21",
   "metadata": {
    "scrolled": false
   },
   "outputs": [
    {
     "name": "stdout",
     "output_type": "stream",
     "text": [
      "Введите год(только цифры):2222\n"
     ]
    }
   ],
   "source": [
    "y = int(input(\"Введите год(только цифры):\" ))"
   ]
  },
  {
   "cell_type": "code",
   "execution_count": 10,
   "id": "18904002",
   "metadata": {
    "scrolled": true
   },
   "outputs": [
    {
     "name": "stdout",
     "output_type": "stream",
     "text": [
      "Это обычный год.\n"
     ]
    }
   ],
   "source": [
    "if y % 4 == 0:\n",
    "    print(\"Это високосный год.\")\n",
    "else:\n",
    "    print('Это обычный год.')\n"
   ]
  },
  {
   "cell_type": "markdown",
   "id": "fe3ee06f",
   "metadata": {},
   "source": [
    "Второе задание:"
   ]
  },
  {
   "cell_type": "code",
   "execution_count": 13,
   "id": "c8003ca4",
   "metadata": {},
   "outputs": [
    {
     "name": "stdout",
     "output_type": "stream",
     "text": [
      "Введите номер билета (6 цифр):345543\n"
     ]
    }
   ],
   "source": [
    "x=input('Введите номер билета (6 цифр):')"
   ]
  },
  {
   "cell_type": "code",
   "execution_count": 17,
   "id": "305f2fe2",
   "metadata": {},
   "outputs": [],
   "source": [
    "sum_123 = int(x[0])+int(x[1])+int(x[2])\n",
    "sum_456 = int(x[3])+int(x[4])+int(x[5])"
   ]
  },
  {
   "cell_type": "code",
   "execution_count": 22,
   "id": "a4446df4",
   "metadata": {},
   "outputs": [
    {
     "name": "stdout",
     "output_type": "stream",
     "text": [
      "Счастливый билет\n"
     ]
    }
   ],
   "source": [
    "if sum_123 == sum_456:\n",
    "    print('Счастливый билет')\n",
    "else:\n",
    "    print('Несчастливый билет')"
   ]
  },
  {
   "cell_type": "code",
   "execution_count": null,
   "id": "78a21d47",
   "metadata": {},
   "outputs": [],
   "source": []
  }
 ],
 "metadata": {
  "kernelspec": {
   "display_name": "Python 3 (ipykernel)",
   "language": "python",
   "name": "python3"
  },
  "language_info": {
   "codemirror_mode": {
    "name": "ipython",
    "version": 3
   },
   "file_extension": ".py",
   "mimetype": "text/x-python",
   "name": "python",
   "nbconvert_exporter": "python",
   "pygments_lexer": "ipython3",
   "version": "3.11.5"
  }
 },
 "nbformat": 4,
 "nbformat_minor": 5
}
